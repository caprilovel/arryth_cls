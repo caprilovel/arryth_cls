{
 "cells": [
  {
   "cell_type": "code",
   "execution_count": 2,
   "metadata": {},
   "outputs": [],
   "source": [
    "import torch\n",
    "import torch.nn as nn\n",
    "import torch.nn.functional as F\n",
    "import torch.optim as optim\n",
    "import numpy as np\n",
    "import pandas as pd\n",
    "from einops import rearrange, reduce, repeat"
   ]
  },
  {
   "cell_type": "code",
   "execution_count": 4,
   "metadata": {},
   "outputs": [],
   "source": [
    "class Conv_maxpool(nn.Module):\n",
    "    def __init__(self, c1, c2):\n",
    "        super(Conv_maxpool, self).__init__()\n",
    "        self.conv = nn.Sequential(\n",
    "            nn.Conv2d(c1, c2, kernel_size=3, stride=2, \n",
    "                      padding=1, bias=False),\n",
    "            nn.BatchNorm2d(c2),\n",
    "            nn.ReLU(inplace=True),\n",
    "        )\n",
    "        self.maxpool = nn.MaxPool2d(\n",
    "            kernel_size=3, stride=2,\n",
    "            padding=1, dilation=1,\n",
    "            ceil_mode=False)\n",
    "        \n",
    "    def forward(self, x):\n",
    "        return self.maxpool(self.conv(x))"
   ]
  },
  {
   "cell_type": "code",
   "execution_count": 7,
   "metadata": {},
   "outputs": [
    {
     "data": {
      "text/plain": [
       "torch.Size([10, 10, 2, 2])"
      ]
     },
     "execution_count": 7,
     "metadata": {},
     "output_type": "execute_result"
    }
   ],
   "source": [
    "a = torch.randn(10,6, 8, 8)\n",
    "conv_mp = Conv_maxpool(6, 10)\n",
    "conv_mp(a).shape"
   ]
  },
  {
   "cell_type": "code",
   "execution_count": null,
   "metadata": {},
   "outputs": [],
   "source": [
    "class ShuffleNetV2Block(nn.Module):\n",
    "    def __init__(self, inp, oup, stride):\n",
    "        super(ShuffleNetV2Block, self).__init__()\n",
    "        self.stride = stride\n",
    "        \n",
    "        branch_features = oup // 2\n",
    "        assert (self.stride != 1) or (inp == branch_features << 1)\n",
    "        \n",
    "        if self.stride == 2:\n",
    "            self.branch1 = nn.Sequential(\n",
    "                nn.Conv2d(inp, inp, kernel_size=3, stride=self.stride, padding=1, groups=inp),\n",
    "                nn.BatchNorm2d(inp),\n",
    "                nn.Conv2d(inp, branch_features, kernel_size=1, \n",
    "                          stride=1, padding=0, bias=False),\n",
    "                nn.BatchNorm2d(branch_features),\n",
    "                nn.ReLU(inplace=True)\n",
    "            )\n",
    "        else:\n",
    "            self.branch1 = nn.Sequential()\n",
    "            \n",
    "        self.branch2 = nn.Sequential(\n",
    "            nn.Conv2d(inp if (self.stride == 2) else branch_features, \n",
    "                      branch_features, kernel_size=1, stride=1, \n",
    "                      padding=0, bias=False),\n",
    "            nn.BatchNorm2d(branch_features),\n",
    "            nn.ReLU(inplace=True),\n",
    "            \n",
    "            nn.Conv2d(branch_features, branch_features, kernel_size=3,\n",
    "                      stride=self.stride, padding=1, groups=branch_features),\n",
    "            nn.BatchNorm2d(branch_features),\n",
    "            \n",
    "            nn.Conv2d(branch_features, branch_features, kernel_size=1,\n",
    "                      padding=0, bias=False),\n",
    "            nn.BatchNorm2d(branch_features),\n",
    "            nn.ReLU(inplace=True),\n",
    "        )\n",
    "        \n",
    "        \n",
    "    def channel_shuffle(self, x, groups):\n",
    "        N, C, H, W = x.size()\n",
    "        out = x.view(N, groups, C//groups, H, W).permute(0, 2, 1, 3, 4).contiguous().view(N, C, H, W)\n",
    "        return out\n",
    "        \n",
    "\n",
    "    def forward(self, x):\n",
    "        if self.stride ==1:\n",
    "            x1, x2 = x.chunk(2, dim=1)\n",
    "            out = torch.cat((x1, self.branch2(x2)), dim=1)\n",
    "        else:\n",
    "            out = torch.cat((self.branch1(x), self.branch2(x)), dim=1)\n",
    "            \n",
    "        out = self.channel_shuffle(out, 2)\n",
    "            \n",
    "        return"
   ]
  }
 ],
 "metadata": {
  "kernelspec": {
   "display_name": "Python 3 (ipykernel)",
   "language": "python",
   "name": "python3"
  },
  "language_info": {
   "codemirror_mode": {
    "name": "ipython",
    "version": 3
   },
   "file_extension": ".py",
   "mimetype": "text/x-python",
   "name": "python",
   "nbconvert_exporter": "python",
   "pygments_lexer": "ipython3",
   "version": "3.7.13"
  },
  "orig_nbformat": 4
 },
 "nbformat": 4,
 "nbformat_minor": 2
}
