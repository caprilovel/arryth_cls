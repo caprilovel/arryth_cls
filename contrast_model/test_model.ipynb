{
 "cells": [
  {
   "cell_type": "code",
   "execution_count": 9,
   "metadata": {},
   "outputs": [],
   "source": [
    "from model import ResBlock   \n",
    "import torch \n",
    "import torch.nn as nn\n",
    "import torch.nn.functional as F\n",
    "import re\n",
    "from collections import OrderedDict"
   ]
  },
  {
   "cell_type": "code",
   "execution_count": 13,
   "metadata": {},
   "outputs": [
    {
     "name": "stdout",
     "output_type": "stream",
     "text": [
      "Conv1d(3, 10, kernel_size=(7,), stride=(2,), padding=(3,), bias=False)\n",
      "BatchNorm2d(10, eps=1e-05, momentum=0.1, affine=True, track_running_stats=True)\n",
      "ReLU(inplace=True)\n",
      "MaxPool2d(kernel_size=3, stride=2, padding=1, dilation=1, ceil_mode=False)\n"
     ]
    }
   ],
   "source": [
    "num_init_features = 10 \n",
    "od = OrderedDict(\n",
    "                [\n",
    "                    (\"conv0\", nn.Conv1d(3, num_init_features, kernel_size=7, stride=2, padding=3, bias=False)),\n",
    "                    (\"norm0\", nn.BatchNorm2d(num_init_features)),\n",
    "                    (\"relu0\", nn.ReLU(inplace=True)),\n",
    "                    (\"pool0\", nn.MaxPool2d(kernel_size=3, stride=2, padding=1)),\n",
    "                ]\n",
    "            )\n",
    "\n",
    "for i in od:\n",
    "    print(od[i])"
   ]
  },
  {
   "cell_type": "code",
   "execution_count": 5,
   "metadata": {},
   "outputs": [
    {
     "data": {
      "text/plain": [
       "torch.Size([256, 16, 256])"
      ]
     },
     "execution_count": 5,
     "metadata": {},
     "output_type": "execute_result"
    }
   ],
   "source": [
    "resblock = ResBlock(16, 32, num_resdual=3) \n",
    "\n",
    "x = torch.randn(256, 16, 256)\n",
    "resblock(x).shape "
   ]
  },
  {
   "cell_type": "code",
   "execution_count": 6,
   "metadata": {},
   "outputs": [
    {
     "data": {
      "text/plain": [
       "torch.Size([256, 32, 128])"
      ]
     },
     "execution_count": 6,
     "metadata": {},
     "output_type": "execute_result"
    }
   ],
   "source": [
    "from model import DownSampleConv1d\n",
    "ds = DownSampleConv1d(16, 32)\n",
    "ds(x).shape "
   ]
  },
  {
   "cell_type": "code",
   "execution_count": 2,
   "metadata": {},
   "outputs": [
    {
     "data": {
      "text/plain": [
       "torch.Size([256, 64, 8])"
      ]
     },
     "execution_count": 2,
     "metadata": {},
     "output_type": "execute_result"
    }
   ],
   "source": [
    "from model import ResNet19\n",
    "resnet = ResNet19(2)\n",
    "x = torch.randn(256, 2, 256)\n",
    "resnet(x).shape"
   ]
  },
  {
   "cell_type": "code",
   "execution_count": 1,
   "metadata": {},
   "outputs": [
    {
     "data": {
      "text/plain": [
       "3"
      ]
     },
     "execution_count": 1,
     "metadata": {},
     "output_type": "execute_result"
    }
   ],
   "source": [
    "int(3.4)"
   ]
  },
  {
   "cell_type": "code",
   "execution_count": 6,
   "metadata": {},
   "outputs": [],
   "source": [
    "import torch \n",
    "import torch.nn as nn\n",
    "import torch.nn.functional as F\n",
    "\n",
    "\n",
    "class SamePaddingConv1d(nn.Module):\n",
    "    '''\n",
    "    \n",
    "    '''\n",
    "    def __init__(self, in_channels, out_channels, kernel_size, dilation=1, groups=1, stride=1):\n",
    "        super(SamePaddingConv1d, self).__init__()\n",
    "        low_pad = dilation * (kernel_size - 1) + 2 - 2 * stride\n",
    "        high_pad = dilation * (kernel_size - 1) + 1 - stride\n",
    "        pad  = high_pad\n",
    "        if pad^1 == pad-1 :\n",
    "            self.l_pad = pad // 2 + 1 \n",
    "            self.r_pad = pad // 2 \n",
    "        else:\n",
    "            self.l_pad = pad // 2 \n",
    "            self.r_pad = pad // 2\n",
    "        self.Conv1d = nn.Conv1d(in_channels, out_channels, kernel_size, stride=stride, dilation=dilation, groups=groups) \n",
    "        \n",
    "        self.low_pad = low_pad\n",
    "        self.high_pad = high_pad\n",
    "    \n",
    "    def forward(self, x):\n",
    "        return self.Conv1d(F.pad(x, (self.l_pad, self.r_pad)))\n",
    "    \n",
    "    def showpad(self,):\n",
    "        print(self.low_pad, self.high_pad)"
   ]
  },
  {
   "cell_type": "code",
   "execution_count": 8,
   "metadata": {},
   "outputs": [
    {
     "name": "stdout",
     "output_type": "stream",
     "text": [
      "6 6\n",
      "None\n"
     ]
    },
    {
     "data": {
      "text/plain": [
       "torch.Size([256, 32, 128])"
      ]
     },
     "execution_count": 8,
     "metadata": {},
     "output_type": "execute_result"
    }
   ],
   "source": [
    "spconv = SamePaddingConv1d(in_channels=32, out_channels=32, kernel_size=4, dilation=2, stride=1, groups=1)\n",
    "a = torch.randn(256, 32, 128)\n",
    "print(spconv.showpad())\n",
    "spconv(a).shape"
   ]
  }
 ],
 "metadata": {
  "kernelspec": {
   "display_name": "base",
   "language": "python",
   "name": "python3"
  },
  "language_info": {
   "codemirror_mode": {
    "name": "ipython",
    "version": 3
   },
   "file_extension": ".py",
   "mimetype": "text/x-python",
   "name": "python",
   "nbconvert_exporter": "python",
   "pygments_lexer": "ipython3",
   "version": "3.7.13"
  },
  "orig_nbformat": 4
 },
 "nbformat": 4,
 "nbformat_minor": 2
}
