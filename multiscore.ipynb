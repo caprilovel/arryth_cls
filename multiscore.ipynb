{
 "cells": [
  {
   "cell_type": "code",
   "execution_count": 1,
   "id": "275f7c01-8294-414e-9ece-a55bbe3af557",
   "metadata": {
    "tags": []
   },
   "outputs": [],
   "source": [
    "import torch \n",
    "import torch.nn as nn\n",
    "import torch.nn.functional as F"
   ]
  },
  {
   "cell_type": "code",
   "execution_count": 8,
   "id": "d5944b82-cd13-42ab-928e-504f3f67ea7c",
   "metadata": {
    "tags": []
   },
   "outputs": [
    {
     "data": {
      "text/plain": [
       "tensor([-9.6437e-21, -2.5690e-20, -6.8408e-20, -1.8208e-19, -4.8441e-19,\n",
       "        -1.2881e-18, -3.4237e-18, -9.0951e-18, -2.4148e-17, -6.4078e-17,\n",
       "        -1.6993e-16, -4.5038e-16, -1.1929e-15, -3.1572e-15, -8.3503e-15,\n",
       "        -2.2068e-14, -5.8273e-14, -1.5374e-13, -4.0525e-13, -1.0672e-12,\n",
       "        -2.8073e-12, -7.3766e-12, -1.9360e-11, -5.0747e-11, -1.3284e-10,\n",
       "        -3.4720e-10, -9.0603e-10, -2.3602e-09, -6.1368e-09, -1.5923e-08,\n",
       "        -4.1223e-08, -1.0645e-07, -2.7414e-07, -7.0379e-07, -1.8006e-06,\n",
       "        -4.5885e-06, -1.1641e-05, -2.9384e-05, -7.3730e-05, -1.8372e-04,\n",
       "        -4.5398e-04, -1.1106e-03, -2.6828e-03, -6.3774e-03, -1.4836e-02,\n",
       "        -3.3464e-02, -7.1945e-02, -1.4228e-01, -2.3841e-01, -2.6894e-01,\n",
       "         0.0000e+00,  7.3106e-01,  1.7616e+00,  2.8577e+00,  3.9281e+00,\n",
       "         4.9665e+00,  5.9852e+00,  6.9936e+00,  7.9973e+00,  8.9989e+00,\n",
       "         9.9995e+00,  1.1000e+01,  1.2000e+01,  1.3000e+01,  1.4000e+01,\n",
       "         1.5000e+01,  1.6000e+01,  1.7000e+01,  1.8000e+01,  1.9000e+01,\n",
       "         2.0000e+01,  2.1000e+01,  2.2000e+01,  2.3000e+01,  2.4000e+01,\n",
       "         2.5000e+01,  2.6000e+01,  2.7000e+01,  2.8000e+01,  2.9000e+01,\n",
       "         3.0000e+01,  3.1000e+01,  3.2000e+01,  3.3000e+01,  3.4000e+01,\n",
       "         3.5000e+01,  3.6000e+01,  3.7000e+01,  3.8000e+01,  3.9000e+01,\n",
       "         4.0000e+01,  4.1000e+01,  4.2000e+01,  4.3000e+01,  4.4000e+01,\n",
       "         4.5000e+01,  4.6000e+01,  4.7000e+01,  4.8000e+01,  4.9000e+01])"
      ]
     },
     "execution_count": 8,
     "metadata": {},
     "output_type": "execute_result"
    },
    {
     "data": {
      "image/png": "[encoded data removed]",
      "text/plain": [
       "<Figure size 432x288 with 1 Axes>"
      ]
     },
     "metadata": {
      "needs_background": "light"
     },
     "output_type": "display_data"
    }
   ],
   "source": [
    "a = torch.arange(100)\n",
    "a = a - 50\n",
    "a = a * torch.sigmoid(a)\n",
    "import matplotlib.pyplot as plt\n",
    "import numpy as np\n",
    "plt.plot(np.array(a))\n",
    "a\n",
    "# a * torch.sigmoid(a)"
   ]
  },
  {
   "cell_type": "code",
   "execution_count": 6,
   "id": "9b2cdd59-43e4-4788-83f3-2c611fac0879",
   "metadata": {},
   "outputs": [],
   "source": [
    "class FeatureExtract(nn.Module):\n",
    "    def __init__(self, in_features, out_features, ):\n",
    "        super().__init__()\n",
    "        self.conv1d1 = nn.Conv1d(in_channels=in_features, out_channels=256, kernel_size=3)\n",
    "        return \n",
    "    \n",
    "    def forward(self, ):\n",
    "        \n",
    "        return "
   ]
  },
  {
   "cell_type": "code",
   "execution_count": null,
   "id": "d0e5610e-f082-4aef-8d15-05c9548791d4",
   "metadata": {},
   "outputs": [],
   "source": [
    "class DomainSpecClf(nn.Module):\n",
    "    def __init__(self, ):\n",
    "        super().__init__()\n",
    "        \n",
    "        \n",
    "    def forward(self, ):\n",
    "        return "
   ]
  },
  {
   "cell_type": "code",
   "execution_count": null,
   "id": "5065c196-04d4-408c-859f-48c11ec644e2",
   "metadata": {},
   "outputs": [],
   "source": [
    "class SqueezeNet(nn.Module):\n",
    "    def __init__(self, ):\n",
    "        super().__init__()\n",
    "        \n",
    "    def "
   ]
  },
  {
   "cell_type": "code",
   "execution_count": 11,
   "id": "688eeeab-9c67-46aa-b555-30059e926ec8",
   "metadata": {
    "tags": []
   },
   "outputs": [
    {
     "data": {
      "text/plain": [
       "999.9855371396244"
      ]
     },
     "execution_count": 11,
     "metadata": {},
     "output_type": "execute_result"
    }
   ],
   "source": [
    "import numpy as np\n",
    "2595 * np.log10(1 + 1000/700)"
   ]
  }
 ],
 "metadata": {
  "kernelspec": {
   "display_name": "Python 3 (ipykernel)",
   "language": "python",
   "name": "python3"
  },
  "language_info": {
   "codemirror_mode": {
    "name": "ipython",
    "version": 3
   },
   "file_extension": ".py",
   "mimetype": "text/x-python",
   "name": "python",
   "nbconvert_exporter": "python",
   "pygments_lexer": "ipython3",
   "version": "3.7.13"
  }
 },
 "nbformat": 4,
 "nbformat_minor": 5
}
