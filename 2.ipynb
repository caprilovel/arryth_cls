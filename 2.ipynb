{
 "cells": [
  {
   "cell_type": "code",
   "execution_count": 4,
   "metadata": {
    "tags": []
   },
   "outputs": [],
   "source": [
    "from collections import defaultdict\n",
    "import torch\n",
    "import wfdb\n",
    "import random\n",
    "\n",
    "\n",
    "path  = \"./data/mit-bih-arrhythmia-database-1.0.0\"\n",
    "dataset_divide = [0.6, 0.2, 0.2]\n",
    "\n",
    "DS1 = [101, 106, 108, 109, 112, 114, 115, 116, 118, 119,\n",
    "122, 124, 201, 203, 205, 207, 208, 209, 215, 220, 223, 230]\n",
    "DS2 = [100, 103, 105, 111, 113, 117, 121, 123, 200, 202,\n",
    "210, 212, 213, 214, 219, 221, 222, 228, 231, 232, 233, 234]\n",
    "Total_DS = DS1 + DS2\n",
    "random.shuffle(Total_DS)\n",
    "DS_train = Total_DS[0:int(dataset_divide[0] * len(Total_DS))]\n",
    "DS_eval = Total_DS[int(dataset_divide[0] * len(Total_DS)):int((dataset_divide[1] + dataset_divide[0]) * len(Total_DS))]\n",
    "DS_test = Total_DS[int((dataset_divide[1] + dataset_divide[0]) * len(Total_DS)):]\n",
    "\n",
    "# print(DS_train)\n"
   ]
  },
  {
   "cell_type": "code",
   "execution_count": 5,
   "metadata": {
    "tags": []
   },
   "outputs": [
    {
     "name": "stdout",
     "output_type": "stream",
     "text": [
      "<generator object mitdb_aryth_batchiter at 0x7f207f7545d0>\n"
     ]
    }
   ],
   "source": [
    "\n",
    "def mitdb_aryth_batchiter(batch_size, nums, path, use_last_batch=True):\n",
    "    '''\n",
    "    ###INPUT:\n",
    "    batch_size: int, the batch_size of the iter\n",
    "    nums: List, the ecg data sets to subsection\n",
    "    path: str, the ecg data storage path\n",
    "    use_last_batch: bool, if True, the final batch of an ecg data is not same as the batch_size; else, drop the final ecg data batch.\n",
    "\n",
    "    ###FUNCTION:\n",
    "    read a single ecg data, realize automatic segmentation\n",
    "    a single heartbeat is consist of 258 \n",
    "    \n",
    "    ###OUTPUT:\n",
    "    batch_x: \n",
    "    shape (batch_size x length x dimension, precisely equals to batch_size x 258 x 2)\n",
    "    type  tensor.FloatTensor\n",
    "    batch_y: shape (batch_size) \n",
    "    type  tensor.LongTensor\n",
    "    \n",
    "    '''\n",
    "    # default dictionary for aryth classify\n",
    "    default_dict_ecg = defaultdict(lambda: 4)\n",
    "    dict_ecg_num =  {\"N\":0, \"L\":0, \"R\":0, \"e\":0, \"j\":0,      #\"B\":0,\n",
    "                    \"A\":1, \"a\":1, \"J\":0, \"S\":1, \n",
    "                    \"V\":2, \"E\":2,                   #\"r\":2,\n",
    "                    \"F\":3,                          #\"n\":3,\n",
    "                    \"/\":4, \"f\":4, \"Q\":4, \"|\":4             #\"?\":4\n",
    "                    }  \n",
    "    for i in dict_ecg_num:\n",
    "        default_dict_ecg[i] = dict_ecg_num[i]\n",
    "\n",
    "    for num in nums:\n",
    "        total_path = path + '/' + str(num)\n",
    "        data = (wfdb.rdrecord(total_path, physical=False)).d_signal\n",
    "        # data = std_standard(data)\n",
    "        atr = wfdb.rdann(total_path, extension=\"atr\")\n",
    "        atr_sample = atr.sample\n",
    "        atr_symbol = atr.symbol\n",
    "        R_times = len(atr_symbol)\n",
    "        batch_x = []\n",
    "        batch_y = []\n",
    "        count = 0\n",
    "        for i in range(R_times - 2):\n",
    "            if atr_sample[i+1] - atr_sample[i]>128:\n",
    "                batch_x.append(torch.FloatTensor(data[atr_sample[i+1]-128:atr_sample[i+1]+128]).unsqueeze(dim=0)) # unsqueeze(dim=0): 增加第零维度\n",
    "                batch_y.append(default_dict_ecg[atr_symbol[i+1]])\n",
    "                count += 1\n",
    "                if count == batch_size:\n",
    "                    yield torch.cat(batch_x,dim=0), torch.LongTensor(batch_y)\n",
    "                    count = 0\n",
    "                    batch_x = []\n",
    "                    batch_y = []\n",
    "        if  count is not 0 and use_last_batch:\n",
    "            yield torch.cat(batch_x,dim=0), torch.LongTensor(batch_y)\n",
    "\n",
    "train_batch_iter = mitdb_aryth_batchiter(10, DS_train, path, use_last_batch=False)\n",
    "print(train_batch_iter)"
   ]
  }
 ],
 "metadata": {
  "kernelspec": {
   "display_name": "Python 3 (ipykernel)",
   "language": "python",
   "name": "python3"
  },
  "language_info": {
   "codemirror_mode": {
    "name": "ipython",
    "version": 3
   },
   "file_extension": ".py",
   "mimetype": "text/x-python",
   "name": "python",
   "nbconvert_exporter": "python",
   "pygments_lexer": "ipython3",
   "version": "3.7.13"
  },
  "vscode": {
   "interpreter": {
    "hash": "d4d1e4263499bec80672ea0156c357c1ee493ec2b1c70f0acce89fc37c4a6abe"
   }
  }
 },
 "nbformat": 4,
 "nbformat_minor": 4
}
